{
 "cells": [
  {
   "cell_type": "code",
   "execution_count": 1,
   "metadata": {},
   "outputs": [],
   "source": [
    "import pandas as pd\n",
    "from scipy import stats"
   ]
  },
  {
   "cell_type": "code",
   "execution_count": 2,
   "metadata": {},
   "outputs": [],
   "source": [
    "#dataset import\n",
    "books_df = pd.read_csv('books.csv')"
   ]
  },
  {
   "cell_type": "code",
   "execution_count": 3,
   "metadata": {},
   "outputs": [
    {
     "name": "stdout",
     "output_type": "stream",
     "text": [
      "<class 'pandas.core.frame.DataFrame'>\n",
      "RangeIndex: 1354 entries, 0 to 1353\n",
      "Data columns (total 23 columns):\n",
      " #   Column                     Non-Null Count  Dtype  \n",
      "---  ------                     --------------  -----  \n",
      " 0   book_id                    1354 non-null   int64  \n",
      " 1   goodreads_book_id          1354 non-null   int64  \n",
      " 2   best_book_id               1354 non-null   int64  \n",
      " 3   work_id                    1354 non-null   int64  \n",
      " 4   books_count                1354 non-null   int64  \n",
      " 5   isbn                       1302 non-null   object \n",
      " 6   isbn13                     1310 non-null   float64\n",
      " 7   authors                    1354 non-null   object \n",
      " 8   original_publication_year  1351 non-null   float64\n",
      " 9   original_title             1302 non-null   object \n",
      " 10  title                      1354 non-null   object \n",
      " 11  language_code              1245 non-null   object \n",
      " 12  average_rating             1354 non-null   float64\n",
      " 13  ratings_count              1354 non-null   int64  \n",
      " 14  work_ratings_count         1354 non-null   int64  \n",
      " 15  work_text_reviews_count    1354 non-null   int64  \n",
      " 16  ratings_1                  1354 non-null   int64  \n",
      " 17  ratings_2                  1354 non-null   int64  \n",
      " 18  ratings_3                  1354 non-null   int64  \n",
      " 19  ratings_4                  1354 non-null   int64  \n",
      " 20  ratings_5                  1354 non-null   int64  \n",
      " 21  image_url                  1354 non-null   object \n",
      " 22  small_image_url            1354 non-null   object \n",
      "dtypes: float64(3), int64(13), object(7)\n",
      "memory usage: 243.4+ KB\n",
      "None\n"
     ]
    }
   ],
   "source": [
    "print(books_df.info())"
   ]
  },
  {
   "cell_type": "code",
   "execution_count": 4,
   "metadata": {},
   "outputs": [],
   "source": [
    "#data cleaning \n",
    "# removing duplicates \n",
    "books_df = books_df.drop_duplicates()\n",
    "\n",
    "#remove na/nan\n",
    "books_df = books_df.dropna()\n"
   ]
  },
  {
   "cell_type": "code",
   "execution_count": 7,
   "metadata": {},
   "outputs": [
    {
     "name": "stdout",
     "output_type": "stream",
     "text": [
      "The book with the highest rating is: Harry Potter and the Sorcerer's Stone (Harry Potter, #1) with a rating of 4602479\n"
     ]
    }
   ],
   "source": [
    "#foucsing on the harry potter books in the data set \n",
    "harry_potter_books = books_df[books_df['original_title'].str.contains(\"Harry Potter\" , case= False )]\n",
    "#looking for the highst rating count \n",
    "the_higst_rating_index = harry_potter_books[\"ratings_count\"].idxmax()\n",
    "print(f\"The book with the highest rating is: {harry_potter_books.loc[the_higst_rating_index]['title']} with a rating of {harry_potter_books.loc[the_higst_rating_index]['ratings_count']}\")\n",
    "\n"
   ]
  },
  {
   "cell_type": "code",
   "execution_count": 11,
   "metadata": {},
   "outputs": [
    {
     "name": "stdout",
     "output_type": "stream",
     "text": [
      "the avreage rating for all harry potter books is4.4910000000000005\n"
     ]
    }
   ],
   "source": [
    "#calculate the average of the avreage ratings\n",
    "print(f\"the avreage rating for all harry potter books is{harry_potter_books['average_rating'].mean()}\")"
   ]
  }
 ],
 "metadata": {
  "kernelspec": {
   "display_name": "Python 3",
   "language": "python",
   "name": "python3"
  },
  "language_info": {
   "codemirror_mode": {
    "name": "ipython",
    "version": 3
   },
   "file_extension": ".py",
   "mimetype": "text/x-python",
   "name": "python",
   "nbconvert_exporter": "python",
   "pygments_lexer": "ipython3",
   "version": "3.10.12"
  }
 },
 "nbformat": 4,
 "nbformat_minor": 2
}
